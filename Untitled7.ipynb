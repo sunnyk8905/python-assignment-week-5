{
 "cells": [
  {
   "cell_type": "code",
   "execution_count": null,
   "id": "30d4b6d6-617d-42a4-adf2-cf5b45cf4650",
   "metadata": {},
   "outputs": [],
   "source": [
    "Q1. What is an exception in python ? Write the difference between the exception and syntex error."
   ]
  },
  {
   "cell_type": "code",
   "execution_count": null,
   "id": "8064c248-61d2-4e96-bb3c-a4e6ea62f0ce",
   "metadata": {},
   "outputs": [],
   "source": [
    "An exception in Python is an event that occurs during the execution of a program, which disrupts the normal flow of the program's instructions. "
   ]
  },
  {
   "cell_type": "code",
   "execution_count": null,
   "id": "47efc5ee-413c-408c-9387-6b8749388695",
   "metadata": {},
   "outputs": [],
   "source": [
    "The difference between exceptions and syntax errors is as follows:\n",
    "\n",
    "Exceptions: Exceptions are raised during the execution of a program when an error or unexpected condition occurs. They can be caused by various reasons, such as invalid input, division by zero, file not found, or network errors. Exceptions are categorized into different types, such as ValueError, TypeError, FileNotFoundError, etc. When an exception is raised, the program execution is immediately halted, and the control is transferred to the nearest exception handler that can handle the specific type of exception.\n",
    "\n",
    "Syntax errors: Syntax errors, on the other hand, occur when the Python interpr"
   ]
  },
  {
   "cell_type": "code",
   "execution_count": null,
   "id": "b6bf622c-9baf-4a78-84f9-6442649c4777",
   "metadata": {},
   "outputs": [],
   "source": [
    "Q2. What happens when an exception is not handled? Explain with an example."
   ]
  },
  {
   "cell_type": "code",
   "execution_count": null,
   "id": "d865f30c-e0e5-4a1c-b866-5e9e3cf7f55f",
   "metadata": {},
   "outputs": [],
   "source": [
    "When an exception is not handled, it results in what is known as an \"unhandled exception.\" When an unhandled exception occurs, the program's execution is abruptly terminated, and an error message is displayed, providing information about the exception that occurred. This error message includes a traceback, which shows the sequence of function calls and the line numbers where the exception occurred."
   ]
  },
  {
   "cell_type": "code",
   "execution_count": null,
   "id": "442a1275-7517-4e39-97e4-e89484ef9fc7",
   "metadata": {},
   "outputs": [],
   "source": [
    "def divide_numbers(a, b):\n",
    "    return a / b\n",
    "\n",
    "# Calling the function with invalid arguments\n",
    "result = divide_numbers(10, 0)\n",
    "print(\"Result:\", result)\n"
   ]
  },
  {
   "cell_type": "code",
   "execution_count": null,
   "id": "64cd2205-61e9-4067-b30a-497b36488e80",
   "metadata": {},
   "outputs": [],
   "source": [
    "Q3. Which python statment are used to catch and handled exception? Explain with an example."
   ]
  },
  {
   "cell_type": "code",
   "execution_count": null,
   "id": "887481ed-ba51-4f99-a60a-044be9335b75",
   "metadata": {},
   "outputs": [],
   "source": [
    "In Python, the try-except statement is used to catch and handle exceptions. "
   ]
  },
  {
   "cell_type": "code",
   "execution_count": null,
   "id": "93b7111e-c8e7-465d-881a-27e96de82aa2",
   "metadata": {},
   "outputs": [],
   "source": [
    "def divide_numbers(a, b):\n",
    "    try:\n",
    "        result = a / b\n",
    "        print(\"Result:\", result)\n",
    "    except ZeroDivisionError:\n",
    "        print(\"Error: Division by zero is not allowed.\")\n",
    "\n",
    "# Calling the function with various arguments\n",
    "divide_numbers(10, 2)  # Valid division\n",
    "divide_numbers(10, 0)  # Division by zero\n"
   ]
  },
  {
   "cell_type": "code",
   "execution_count": null,
   "id": "7c5a471a-c77a-4536-884e-8d15e82c0c4c",
   "metadata": {},
   "outputs": [],
   "source": [
    "Result: 5.0\n"
   ]
  },
  {
   "cell_type": "code",
   "execution_count": null,
   "id": "c5aed462-fb66-4d1d-965c-d4d47cbbf497",
   "metadata": {},
   "outputs": [],
   "source": [
    "Error: Division by zero is not allowed.\n"
   ]
  },
  {
   "cell_type": "code",
   "execution_count": null,
   "id": "c30fdb31-2642-4030-990d-22c170f33693",
   "metadata": {},
   "outputs": [],
   "source": [
    "Q4. Explain with an example.\n",
    "    a) try and else.\n",
    "    b)finally.\n",
    "    c)raise"
   ]
  },
  {
   "cell_type": "code",
   "execution_count": null,
   "id": "21bd3379-2a9a-4d2b-b435-2b1ec06c5dc8",
   "metadata": {},
   "outputs": [],
   "source": [
    "a) try, except, and else:\n",
    "The try-except-else statement allows you to specify a block of code to be executed within the try block. If an exception occurs within the try block, it is caught and handled in the corresponding except block. However, if no exception occurs, the code within the else block is executed. The else block is optional and provides a way to specify code that should run only when no exception is raised."
   ]
  },
  {
   "cell_type": "code",
   "execution_count": null,
   "id": "c3d8375f-c016-4768-a258-0250a366537f",
   "metadata": {},
   "outputs": [],
   "source": [
    "def divide_numbers(a, b):\n",
    "    try:\n",
    "        result = a / b\n",
    "    except ZeroDivisionError:\n",
    "        print(\"Error: Division by zero is not allowed.\")\n",
    "    else:\n",
    "        print(\"Result:\", result)\n",
    "\n",
    "# Calling the function with various arguments\n",
    "divide_numbers(10, 2)  # Valid division\n",
    "divide_numbers(10, 0)  # Division by zero\n"
   ]
  },
  {
   "cell_type": "code",
   "execution_count": null,
   "id": "e945145a-b7ee-4369-8b88-5bf27871957f",
   "metadata": {},
   "outputs": [],
   "source": [
    "Result: 5.0\n"
   ]
  },
  {
   "cell_type": "code",
   "execution_count": null,
   "id": "60c6e2b1-9d5c-47f9-922e-fb4cdea761f5",
   "metadata": {},
   "outputs": [],
   "source": [
    "b) finally:\n",
    "The finally block is used to specify a block of code that should be executed regardless of whether an exception occurs or not. It ensures that certain code is always executed, even if an exception is raised or caught."
   ]
  },
  {
   "cell_type": "code",
   "execution_count": null,
   "id": "5e61ff80-ea0a-490d-9d5b-964249a2f243",
   "metadata": {},
   "outputs": [],
   "source": [
    "def divide_numbers(a, b):\n",
    "    try:\n",
    "        result = a / b\n",
    "        print(\"Result:\", result)\n",
    "    except ZeroDivisionError:\n",
    "        print(\"Error: Division by zero is not allowed.\")\n",
    "    finally:\n",
    "        print(\"Operation completed.\")\n",
    "\n",
    "# Calling the function with various arguments\n",
    "divide_numbers(10, 2)  # Valid division\n",
    "divide_numbers(10, 0)  # Division by zero\n"
   ]
  },
  {
   "cell_type": "code",
   "execution_count": null,
   "id": "94b9cdc5-00f6-4d79-9fd8-52d83b8f2c21",
   "metadata": {},
   "outputs": [],
   "source": [
    "Result: 5.0\n",
    "Operation completed.\n",
    "Error: Division by zero is not allowed.\n",
    "Operation completed.\n"
   ]
  },
  {
   "cell_type": "code",
   "execution_count": null,
   "id": "348a3a4c-0274-4e11-8eb8-4c147fb4d411",
   "metadata": {},
   "outputs": [],
   "source": [
    "c) raise:\n",
    "The raise statement is used to manually raise an exception in Python. It allows you to explicitly trigger an exception at a specific point in your code. You can use raise to handle exceptional cases that are not automatically detected by the interpreter."
   ]
  },
  {
   "cell_type": "code",
   "execution_count": null,
   "id": "662f64d7-5dcd-49d4-9a8f-2eb876330b69",
   "metadata": {},
   "outputs": [],
   "source": [
    "def validate_age(age):\n",
    "    if age < 0:\n",
    "        raise ValueError(\"Age cannot be negative.\")\n",
    "    elif age > 120:\n",
    "        raise ValueError(\"Invalid age: too high.\")\n",
    "    else:\n",
    "        print(\"Valid age.\")\n",
    "\n",
    "# Calling the function with different ages\n",
    "validate_age(25)    # Valid age\n",
    "validate_age(-5)    # Raises ValueError: Age cannot be negative.\n",
    "validate_age(150)   # Raises ValueError: Invalid age: too high.\n"
   ]
  },
  {
   "cell_type": "code",
   "execution_count": null,
   "id": "03e50187-5c9e-4df6-a761-f04027efd2d5",
   "metadata": {},
   "outputs": [],
   "source": [
    "Q5. What are custom exception in python? Why do we need custom exception? Explain with an example."
   ]
  },
  {
   "cell_type": "code",
   "execution_count": null,
   "id": "fef0dae2-27da-4766-9e83-f7ae1d3c0d7d",
   "metadata": {},
   "outputs": [],
   "source": [
    "Custom exceptions in Python are user-defined exceptions that extend the built-in exception classes or other custom exception classes. They allow developers to create their own exception types to handle specific exceptional conditions in their code."
   ]
  },
  {
   "cell_type": "code",
   "execution_count": null,
   "id": "b47b88cd-55b3-4954-aea9-e153e1f4fca0",
   "metadata": {},
   "outputs": [],
   "source": [
    "Specific error handling: Custom exceptions provide a way to handle specific error conditions that are unique to our code. By creating custom exceptions, we can raise and catch them to handle specific scenarios in a more granular and meaningful way."
   ]
  },
  {
   "cell_type": "code",
   "execution_count": null,
   "id": "d06ae8a2-d690-436b-84e3-5726e0571bd9",
   "metadata": {},
   "outputs": [],
   "source": [
    "class InsufficientBalanceError(Exception):\n",
    "    def __init__(self, balance, amount):\n",
    "        self.balance = balance\n",
    "        self.amount = amount\n",
    "        super().__init__(f\"Insufficient balance. Available balance: {balance}, Required amount: {amount}\")\n",
    "\n",
    "def withdraw(balance, amount):\n",
    "    if balance < amount:\n",
    "        raise InsufficientBalanceError(balance, amount)\n",
    "    else:\n",
    "        print(\"Withdrawal successful.\")\n",
    "\n",
    "# Usage of the custom exception\n",
    "try:\n",
    "    withdraw(100, 200)\n",
    "except InsufficientBalanceError as e:\n",
    "    print(e)\n"
   ]
  },
  {
   "cell_type": "code",
   "execution_count": null,
   "id": "c0a2bd5b-1d8a-4c94-b58c-d45c48b39443",
   "metadata": {},
   "outputs": [],
   "source": [
    "Q6. Create a custom execption class.Use this class to handle an exception ."
   ]
  },
  {
   "cell_type": "code",
   "execution_count": null,
   "id": "82602afb-4969-447c-b8f6-361aba41f463",
   "metadata": {},
   "outputs": [],
   "source": [
    "class CustomException(Exception):\n",
    "    def __init__(self, message):\n",
    "        self.message = message\n",
    "        super().__init__(self.message)\n",
    "\n",
    "def perform_operation(value):\n",
    "    try:\n",
    "        if value < 0:\n",
    "            raise CustomException(\"Invalid value: Cannot be negative.\")\n",
    "        else:\n",
    "            print(\"Operation performed successfully.\")\n",
    "    except CustomException as e:\n",
    "        print(\"CustomException occurred:\", e.message)\n",
    "\n",
    "# Using the custom exception class\n",
    "perform_operation(5)   # Valid operation\n",
    "perform_operation(-2)  # Raises CustomException\n"
   ]
  },
  {
   "cell_type": "code",
   "execution_count": null,
   "id": "bfccd398-6a6f-4f48-90a5-1dc1b26f65a6",
   "metadata": {},
   "outputs": [],
   "source": [
    "Operation performed successfully.\n"
   ]
  },
  {
   "cell_type": "code",
   "execution_count": null,
   "id": "587ed1ff-1524-4b55-8c1c-ba8e61924984",
   "metadata": {},
   "outputs": [],
   "source": [
    "CustomException occurred: Invalid value: Cannot be negative.\n"
   ]
  },
  {
   "cell_type": "code",
   "execution_count": null,
   "id": "60d62e7f-9541-4061-8a3d-c65649812140",
   "metadata": {},
   "outputs": [],
   "source": []
  }
 ],
 "metadata": {
  "kernelspec": {
   "display_name": "Python 3 (ipykernel)",
   "language": "python",
   "name": "python3"
  },
  "language_info": {
   "codemirror_mode": {
    "name": "ipython",
    "version": 3
   },
   "file_extension": ".py",
   "mimetype": "text/x-python",
   "name": "python",
   "nbconvert_exporter": "python",
   "pygments_lexer": "ipython3",
   "version": "3.10.8"
  }
 },
 "nbformat": 4,
 "nbformat_minor": 5
}
